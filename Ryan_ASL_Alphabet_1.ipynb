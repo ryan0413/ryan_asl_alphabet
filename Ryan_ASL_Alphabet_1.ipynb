{
  "nbformat": 4,
  "nbformat_minor": 0,
  "metadata": {
    "colab": {
      "name": "Ryan_ASL_Alphabet_1.ipynb",
      "version": "0.3.2",
      "provenance": [],
      "collapsed_sections": [],
      "toc_visible": true,
      "include_colab_link": true
    },
    "kernelspec": {
      "name": "python3",
      "display_name": "Python 3"
    },
    "accelerator": "GPU"
  },
  "cells": [
    {
      "cell_type": "markdown",
      "metadata": {
        "id": "view-in-github",
        "colab_type": "text"
      },
      "source": [
        "<a href=\"https://colab.research.google.com/github/ryan0413/ryan_asl_alphabet/blob/master/Ryan_ASL_Alphabet_1.ipynb\" target=\"_parent\"><img src=\"https://colab.research.google.com/assets/colab-badge.svg\" alt=\"Open In Colab\"/></a>"
      ]
    },
    {
      "cell_type": "markdown",
      "metadata": {
        "id": "2Smami_IX2wM",
        "colab_type": "text"
      },
      "source": [
        "#####https://www.kaggle.com/grassknoted/asl-alphabet\n",
        "\n",
        "#####Keras建立卷積神經網路#####https://chtseng.wordpress.com/2017/09/23/%E5%AD%B8%E7%BF%92%E4%BD%BF%E7%94%A8keras%E5%BB%BA%E7%AB%8B%E5%8D%B7%E7%A9%8D%E7%A5%9E%E7%B6%93%E7%B6%B2%E8%B7%AF/"
      ]
    },
    {
      "cell_type": "code",
      "metadata": {
        "id": "lsCCEBnrDD03",
        "colab_type": "code",
        "colab": {}
      },
      "source": [
        "# Input data from git\n",
        "! git clone https://jamiewu128@bitbucket.org/jamiewu128/asl_alphabet.git"
      ],
      "execution_count": 0,
      "outputs": []
    },
    {
      "cell_type": "code",
      "metadata": {
        "id": "uxX2g0RhEI0v",
        "colab_type": "code",
        "colab": {}
      },
      "source": [
        "# Import libraries and packages\n",
        "import numpy as np\n",
        "import pandas as pd\n",
        "import os\n",
        "\n",
        "# keras libraries\n",
        "import keras\n",
        "from keras.preprocessing import image # 影象預處理模組\n",
        "from keras.layers import Conv2D, MaxPool2D, Flatten, Dense, Dropout, BatchNormalization\n",
        "from keras.preprocessing.image import ImageDataGenerator\n",
        "from keras.models import Sequential\n",
        "from keras import regularizers\n",
        "\n",
        "import random\n",
        "from sklearn.model_selection import train_test_split\n",
        "import cv2\n",
        "import matplotlib.pyplot as plt"
      ],
      "execution_count": 0,
      "outputs": []
    },
    {
      "cell_type": "code",
      "metadata": {
        "id": "stDsyhzFECJW",
        "colab_type": "code",
        "colab": {}
      },
      "source": [
        "# check path\n",
        "print(os.listdir(\"../content/asl_alphabet\"))"
      ],
      "execution_count": 0,
      "outputs": []
    },
    {
      "cell_type": "code",
      "metadata": {
        "id": "Km1AiHHuEMRW",
        "colab_type": "code",
        "colab": {}
      },
      "source": [
        "# 訓練與測試資料路徑參照\n",
        "train_dir = '../content/asl_alphabet/asl_alphabet_train'\n",
        "test_dir = '../content/asl_alphabet/asl_alphabet_test'"
      ],
      "execution_count": 0,
      "outputs": []
    },
    {
      "cell_type": "code",
      "metadata": {
        "id": "PJq9WCHpERDv",
        "colab_type": "code",
        "colab": {}
      },
      "source": [
        "def load_unique():\n",
        "    size_img = 128,128 \n",
        "    images_for_plot = []\n",
        "    labels_for_plot = []\n",
        "    for folder in os.listdir(train_dir):\n",
        "        for file in os.listdir(train_dir + '/' + folder):\n",
        "            filepath = train_dir + '/' + folder + '/' + file\n",
        "            image = cv2.imread(filepath)\n",
        "            final_img = cv2.resize(image, size_img)\n",
        "            final_img = cv2.cvtColor(final_img, cv2.COLOR_BGR2GRAY)\n",
        "            images_for_plot.append(final_img)\n",
        "            labels_for_plot.append(folder)\n",
        "            break\n",
        "    return images_for_plot, labels_for_plot"
      ],
      "execution_count": 0,
      "outputs": []
    },
    {
      "cell_type": "code",
      "metadata": {
        "id": "QEXmpKInZpkE",
        "colab_type": "code",
        "colab": {}
      },
      "source": [
        "# 讀取標籤\n",
        "images_for_plot, labels_for_plot = load_unique()\n",
        "print(\"unique_labels = \", labels_for_plot)"
      ],
      "execution_count": 0,
      "outputs": []
    },
    {
      "cell_type": "code",
      "metadata": {
        "id": "-dwrbXXzEUdW",
        "colab_type": "code",
        "colab": {}
      },
      "source": [
        "# 顯示圖片\n",
        "fig = plt.figure(figsize = (12,12))\n",
        "def plot_images(fig, image, label, row, col, index):\n",
        "    fig.add_subplot(row, col, index)\n",
        "    plt.axis('off')\n",
        "    plt.imshow(image)\n",
        "    plt.title(label)\n",
        "    return\n",
        "\n",
        "# 顯示4*5張數\n",
        "image_index = 0\n",
        "row = 5\n",
        "col = 6\n",
        "for i in range(1,(row*col)):\n",
        "    plot_images(fig, images_for_plot[image_index], labels_for_plot[image_index], row, col, i)\n",
        "    image_index = image_index + 1\n",
        "plt.show()"
      ],
      "execution_count": 0,
      "outputs": []
    },
    {
      "cell_type": "code",
      "metadata": {
        "id": "DeA2LbpnEZVX",
        "colab_type": "code",
        "colab": {}
      },
      "source": [
        "# 設定標籤編號\n",
        "labels_dict = {'A':0,'B':1,'C':2,'D':3,'E':4,'F':5,'G':6,'H':7,'I':8,'J':9,'K':10,'L':11,'M':12,\n",
        "                   'N':13,'O':14,'P':15,'Q':16,'R':17,'S':18,'T':19,'U':20,'V':21,'W':22,'X':23,'Y':24,\n",
        "                   'Z':25,'space':26,'del':27,'nothing':28}"
      ],
      "execution_count": 0,
      "outputs": []
    },
    {
      "cell_type": "code",
      "metadata": {
        "id": "HytOt9FoEi6n",
        "colab_type": "code",
        "colab": {}
      },
      "source": [
        "def load_data(load_image_count, padding):  \n",
        "    images = []\n",
        "    labels = []\n",
        "    size = 64,64\n",
        "    print(\"LOADING DATA FROM : \",end = \"\")\n",
        "    for folder in os.listdir(train_dir): # folder=\"A\",\"B\"...\n",
        "        x=0\n",
        "        print(folder, end = ' | ')\n",
        "        for image in os.listdir(train_dir + \"/\" + folder):  \n",
        "            x=x+1\n",
        "            if x<load_image_count:                \n",
        "                if x % padding != 0:\n",
        "                    continue                  \n",
        "                temp_img = cv2.imread(train_dir + '/' + folder + '/' + image)\n",
        "                temp_img = cv2.resize(temp_img, size)\n",
        "                images.append(temp_img)                \n",
        "                if folder == 'A':\n",
        "                    labels.append(labels_dict['A'])\n",
        "                elif folder == 'B':\n",
        "                    labels.append(labels_dict['B'])\n",
        "                elif folder == 'C':\n",
        "                    labels.append(labels_dict['C'])\n",
        "                elif folder == 'D':\n",
        "                    labels.append(labels_dict['D'])\n",
        "                elif folder == 'E':\n",
        "                    labels.append(labels_dict['E'])\n",
        "                elif folder == 'F':\n",
        "                    labels.append(labels_dict['F'])\n",
        "                elif folder == 'G':\n",
        "                    labels.append(labels_dict['G'])\n",
        "                elif folder == 'H':\n",
        "                    labels.append(labels_dict['H'])\n",
        "                elif folder == 'I':\n",
        "                    labels.append(labels_dict['I'])\n",
        "                elif folder == 'J':\n",
        "                    labels.append(labels_dict['J'])\n",
        "                elif folder == 'K':\n",
        "                    labels.append(labels_dict['K'])\n",
        "                elif folder == 'L':\n",
        "                    labels.append(labels_dict['L'])\n",
        "                elif folder == 'M':\n",
        "                    labels.append(labels_dict['M'])\n",
        "                elif folder == 'N':\n",
        "                    labels.append(labels_dict['N'])\n",
        "                elif folder == 'O':\n",
        "                    labels.append(labels_dict['O'])\n",
        "                elif folder == 'P':\n",
        "                    labels.append(labels_dict['P'])\n",
        "                elif folder == 'Q':\n",
        "                    labels.append(labels_dict['Q'])\n",
        "                elif folder == 'R':\n",
        "                    labels.append(labels_dict['R'])\n",
        "                elif folder == 'S':\n",
        "                    labels.append(labels_dict['S'])\n",
        "                elif folder == 'T':\n",
        "                    labels.append(labels_dict['T'])\n",
        "                elif folder == 'U':\n",
        "                    labels.append(labels_dict['U'])\n",
        "                elif folder == 'V':\n",
        "                    labels.append(labels_dict['V'])\n",
        "                elif folder == 'W':\n",
        "                    labels.append(labels_dict['W'])\n",
        "                elif folder == 'X':\n",
        "                    labels.append(labels_dict['X'])\n",
        "                elif folder == 'Y':\n",
        "                    labels.append(labels_dict['Y'])\n",
        "                elif folder == 'Z':\n",
        "                    labels.append(labels_dict['Z'])\n",
        "                elif folder == 'space':\n",
        "                    labels.append(labels_dict['space'])\n",
        "                elif folder == 'del':\n",
        "                    labels.append(labels_dict['del'])\n",
        "                elif folder == 'nothing':\n",
        "                    labels.append(labels_dict['nothing'])                \n",
        "    \n",
        "    images = np.array(images)\n",
        "    images = images.astype('float32')/255.0 # 標準化，將值轉為0~1之間\n",
        "    \n",
        "    labels = keras.utils.to_categorical(labels) # Onehot encoding，將彼此間不相關且非有序的categories轉換為連續性且是有序數值\n",
        "    \n",
        "    X_train, X_test, Y_train, Y_test = train_test_split(images, labels, test_size = 0.05)\n",
        "    \n",
        "    print()\n",
        "    print('Loaded', len(X_train),'images for training,','Train data shape =',X_train.shape)\n",
        "    print('Loaded', len(X_test),'images for testing','Test data shape =',X_test.shape)\n",
        "    \n",
        "    return X_train, X_test, Y_train, Y_test"
      ],
      "execution_count": 0,
      "outputs": []
    },
    {
      "cell_type": "code",
      "metadata": {
        "id": "zEmbJacbEoNP",
        "colab_type": "code",
        "colab": {}
      },
      "source": [
        "load_image_count = 3000\n",
        "padding = 1\n",
        "X_train, X_test, Y_train, Y_test = load_data(load_image_count, padding)"
      ],
      "execution_count": 0,
      "outputs": []
    },
    {
      "cell_type": "code",
      "metadata": {
        "id": "cOV378qdFLcf",
        "colab_type": "code",
        "colab": {}
      },
      "source": [
        "# 建立模型\n",
        "def create_model():\n",
        "    \n",
        "    model = Sequential()\n",
        "    \n",
        "    # initializing CNN\n",
        "    model.add(Conv2D(16, kernel_size = [3,3], padding = 'same', activation = 'relu', input_shape = (64,64,3)))\n",
        "    model.add(Conv2D(32, kernel_size = [3,3], padding = 'same', activation = 'relu'))\n",
        "    model.add(MaxPool2D(pool_size = [2,2]))\n",
        "    \n",
        "    model.add(Conv2D(32, kernel_size = [3,3], padding = 'same', activation = 'relu'))\n",
        "    model.add(Conv2D(64, kernel_size = [3,3], padding = 'same', activation = 'relu'))\n",
        "    model.add(MaxPool2D(pool_size = [2,2]))\n",
        "    \n",
        "    model.add(Conv2D(128, kernel_size = [3,3], padding = 'same', activation = 'relu'))\n",
        "    model.add(Conv2D(256, kernel_size = [3,3], padding = 'same', activation = 'relu'))\n",
        "    model.add(MaxPool2D(pool_size = [2,2]))\n",
        "    \n",
        "    model.add(BatchNormalization())\n",
        "    \n",
        "    model.add(Flatten()) # 將 feature maps 攤平放入一個向量中，建立平坦層(輸入層)\n",
        "    \n",
        "    model.add(Dropout(0.5)) # 丟棄\n",
        "    \n",
        "    model.add(Dense(512, activation = 'relu', kernel_regularizer = regularizers.l2(0.001))) # 建立隱藏層 (512 個神經元)\n",
        "    \n",
        "    model.add(Dense(29, activation = 'softmax')) # 建立輸出層 (29 個神經元) \n",
        "    \n",
        "    print(\"MODEL CREATED\")\n",
        "    model.summary()\n",
        "    \n",
        "    return model"
      ],
      "execution_count": 0,
      "outputs": []
    },
    {
      "cell_type": "code",
      "metadata": {
        "id": "U8Ky_fXRFQW_",
        "colab_type": "code",
        "colab": {}
      },
      "source": [
        "model = create_model()"
      ],
      "execution_count": 0,
      "outputs": []
    },
    {
      "cell_type": "code",
      "metadata": {
        "id": "byKO8EGqe46r",
        "colab_type": "code",
        "colab": {}
      },
      "source": [
        "def fit_model():\n",
        "    model.compile(optimizer = 'adam', # 訓練時之最佳化方法使用 \"adam\" (快速收斂且準確度高)\n",
        "                  loss = keras.losses.binary_crossentropy, # 損失函數使用交叉熵\n",
        "                  metrics = [\"accuracy\"]) # 評估模型之方式為 accuracy (準確度)\n",
        "    \n",
        "    model_hist = model.fit(X_train, Y_train, batch_size = 64, epochs = 15, validation_split = 0.2)\n",
        "    return model_hist "
      ],
      "execution_count": 0,
      "outputs": []
    },
    {
      "cell_type": "code",
      "metadata": {
        "id": "xUg-gSffFU1Q",
        "colab_type": "code",
        "colab": {}
      },
      "source": [
        "curr_model_hist = fit_model()"
      ],
      "execution_count": 0,
      "outputs": []
    },
    {
      "cell_type": "code",
      "metadata": {
        "id": "rI-VZtTiyo_d",
        "colab_type": "code",
        "colab": {}
      },
      "source": [
        "# 查看準確性\n",
        "def plot_accuracy():\n",
        "    plt.plot(curr_model_hist.history['acc'])\n",
        "    plt.plot(curr_model_hist.history['val_acc'])\n",
        "    plt.legend(['train', 'test'], loc='lower right')\n",
        "    plt.title('accuracy plot - train vs test')\n",
        "    plt.xlabel('epoch')\n",
        "    plt.ylabel('accuracy')\n",
        "    plt.show()\n",
        "    return\n",
        "\n",
        "# 查看丟失值\n",
        "def plot_loss():\n",
        "    plt.plot(curr_model_hist.history['loss'])\n",
        "    plt.plot(curr_model_hist.history['val_loss'])\n",
        "    plt.legend(['training loss', 'validation loss'], loc = 'upper right')\n",
        "    plt.title('loss plot - training vs vaidation')\n",
        "    plt.xlabel('epoch')\n",
        "    plt.ylabel('loss')\n",
        "    plt.show()\n",
        "    return\n",
        "  \n",
        "plot_accuracy()\n",
        "plot_loss()"
      ],
      "execution_count": 0,
      "outputs": []
    },
    {
      "cell_type": "code",
      "metadata": {
        "id": "xgHKG4Vyyuf0",
        "colab_type": "code",
        "colab": {}
      },
      "source": [
        "# 評估\n",
        "evaluate_metrics = model.evaluate(X_test, Y_test)\n",
        "print(\"\\nEvaluation Accuracy =\", evaluate_metrics[1],\"\\nEvaluation loss =\",evaluate_metrics[0])"
      ],
      "execution_count": 0,
      "outputs": []
    },
    {
      "cell_type": "code",
      "metadata": {
        "id": "YdSqmBmryygb",
        "colab_type": "code",
        "colab": {}
      },
      "source": [
        "# 讀取測試集\n",
        "def load_test_data():\n",
        "    images = []\n",
        "    names = []\n",
        "    size = 64,64\n",
        "    for image in os.listdir(test_dir):\n",
        "        temp = cv2.imread(test_dir + '/' + image)\n",
        "        temp = cv2.resize(temp, size)\n",
        "        images.append(temp)\n",
        "        names.append(image)\n",
        "    images = np.array(images)\n",
        "    images = images.astype('float32')/255.0\n",
        "    return images, names\n",
        "\n",
        "test_images, test_img_names = load_test_data()"
      ],
      "execution_count": 0,
      "outputs": []
    },
    {
      "cell_type": "code",
      "metadata": {
        "id": "B5Kp4oBgy2kc",
        "colab_type": "code",
        "colab": {}
      },
      "source": [
        "# 預測測試資料\n",
        "def give_predictions(test_data):\n",
        "    predictions_classes = []\n",
        "    for image in test_data:\n",
        "        image = image.reshape(1,64,64,3)\n",
        "        pred = model.predict_classes(image)\n",
        "        predictions_classes.append(pred[0])\n",
        "    return predictions_classes\n",
        "  \n",
        "predictions = give_predictions(test_images)\n",
        "print(predictions)"
      ],
      "execution_count": 0,
      "outputs": []
    },
    {
      "cell_type": "code",
      "metadata": {
        "id": "3mHnnn4oy7Zb",
        "colab_type": "code",
        "colab": {}
      },
      "source": [
        "def get_labels_for_plot(predictions):\n",
        "    predictions_labels = []\n",
        "    for i in range(len(predictions)):\n",
        "        for ins in labels_dict:\n",
        "            if predictions[i] == labels_dict[ins]:\n",
        "                predictions_labels.append(ins)\n",
        "                break\n",
        "    return predictions_labels\n",
        "\n",
        "predictions_labels_plot = get_labels_for_plot(predictions)\n",
        "print(predictions_labels_plot)"
      ],
      "execution_count": 0,
      "outputs": []
    },
    {
      "cell_type": "code",
      "metadata": {
        "id": "O8eIDORlzAyc",
        "colab_type": "code",
        "colab": {}
      },
      "source": [
        "predfigure = plt.figure(figsize = (14,14))\n",
        "def plot_image_1(fig, image, label, prediction, predictions_label, row, col, index):\n",
        "    fig.add_subplot(row, col, index)\n",
        "    plt.axis('off')\n",
        "    plt.imshow(image)\n",
        "    title = \"prediction : [\" + str(predictions_label) + \"] \"+ \"\\n\" + label\n",
        "    plt.title(title)\n",
        "    return\n",
        "\n",
        "image_index = 0\n",
        "row = 5\n",
        "col = 6\n",
        "for i in range(1,(row*col-1)):\n",
        "    plot_image_1(predfigure, test_images[image_index], test_img_names[image_index], predictions[image_index], predictions_labels_plot[image_index], row, col, i)\n",
        "    image_index = image_index + 1\n",
        "plt.show()"
      ],
      "execution_count": 0,
      "outputs": []
    },
    {
      "cell_type": "markdown",
      "metadata": {
        "id": "3O7NkshmOnv4",
        "colab_type": "text"
      },
      "source": [
        "###匯出"
      ]
    },
    {
      "cell_type": "code",
      "metadata": {
        "id": "R98-EpcvzD1e",
        "colab_type": "code",
        "colab": {}
      },
      "source": [
        "# 匯出\n",
        "model.save('Ryan_Final_Model_asl.h5')"
      ],
      "execution_count": 0,
      "outputs": []
    },
    {
      "cell_type": "markdown",
      "metadata": {
        "id": "UrMaw9cAOfcu",
        "colab_type": "text"
      },
      "source": [
        "###外部照片測試"
      ]
    },
    {
      "cell_type": "code",
      "metadata": {
        "id": "pF70Wh2BYHZe",
        "colab_type": "code",
        "colab": {}
      },
      "source": [
        "# Input data from git\n",
        "#! git clone https://ryan0413@bitbucket.org/ryan0413/rw_aiclassroom/asl-alphabet/ryan_test.git"
      ],
      "execution_count": 0,
      "outputs": []
    },
    {
      "cell_type": "code",
      "metadata": {
        "id": "ukjrFPckQhK5",
        "colab_type": "code",
        "colab": {}
      },
      "source": [
        "#ryan_test_dir = '../content/ryan_test/asl-alphabet/ryan_test'\n",
        "ryan_test_dir = '../content'\n",
        "test_pic = 'ryan_y.jpg'"
      ],
      "execution_count": 0,
      "outputs": []
    },
    {
      "cell_type": "code",
      "metadata": {
        "id": "fCyMszNLfRmR",
        "colab_type": "code",
        "colab": {}
      },
      "source": [
        "img = cv2.imread(ryan_test_dir + '/' + test_pic)\n",
        "img_cvt=cv2.cvtColor(img, cv2.COLOR_BGR2RGB)\n",
        "plt.imshow(img_cvt)\n",
        "plt.show()"
      ],
      "execution_count": 0,
      "outputs": []
    },
    {
      "cell_type": "code",
      "metadata": {
        "id": "d8nsg5Tbj5FE",
        "colab_type": "code",
        "colab": {}
      },
      "source": [
        "def load_single_test_data():\n",
        "    images = []\n",
        "    names = []\n",
        "    size = 64,64\n",
        "    \n",
        "    for image in os.listdir(ryan_test_dir):\n",
        "        #temp = cv2.imread(ryan_test_dir + '/' + image)\n",
        "        temp = cv2.imread(ryan_test_dir + '/' + test_pic)\n",
        "        temp = cv2.resize(temp, size)\n",
        "        images.append(temp)\n",
        "        names.append(image)    \n",
        "    \n",
        "    images = np.array(images)\n",
        "    images = images.astype('float32')/255.0\n",
        "    return images, names"
      ],
      "execution_count": 0,
      "outputs": []
    },
    {
      "cell_type": "code",
      "metadata": {
        "id": "58-fcdZkkVhb",
        "colab_type": "code",
        "colab": {}
      },
      "source": [
        "def give_single_predictions(test_data):\n",
        "    predictions_classes = []\n",
        "    for image in test_data:\n",
        "        image = image.reshape(1,64,64,3)\n",
        "        pred = model.predict_classes(image)\n",
        "        predictions_classes.append(pred[0])\n",
        "    return predictions_classes"
      ],
      "execution_count": 0,
      "outputs": []
    },
    {
      "cell_type": "code",
      "metadata": {
        "id": "dKQ9zdrpOD9o",
        "colab_type": "code",
        "colab": {}
      },
      "source": [
        "def get_single_labels_for_plot(predictions):\n",
        "    predictions_labels = []\n",
        "    for i in range(len(predictions)):\n",
        "        for ins in labels_dict:\n",
        "            if predictions[i] == labels_dict[ins]:\n",
        "                predictions_labels.append(ins)\n",
        "                break\n",
        "    return predictions_labels"
      ],
      "execution_count": 0,
      "outputs": []
    },
    {
      "cell_type": "code",
      "metadata": {
        "id": "7Up2Pm7KgQsQ",
        "colab_type": "code",
        "colab": {}
      },
      "source": [
        "image_single, image_single_name = load_single_test_data()\n",
        "single_predictions = give_single_predictions(image_single)\n",
        "single_predictions_labels_plot = get_single_labels_for_plot(single_predictions)\n",
        "\n",
        "print(single_predictions)\n",
        "print(single_predictions_labels_plot)"
      ],
      "execution_count": 0,
      "outputs": []
    },
    {
      "cell_type": "code",
      "metadata": {
        "id": "z0sKg8dBNWs5",
        "colab_type": "code",
        "colab": {}
      },
      "source": [
        "predfigure = plt.figure(figsize = (14,14))\n",
        "def plot_ryan_image(fig, image, label, prediction, predictions_label, row, col, index):\n",
        "    fig.add_subplot(row, col, index)\n",
        "    plt.axis('off')\n",
        "    plt.imshow(image)\n",
        "    title = \"prediction : [\" + str(predictions_label) + \"] \"+ \"\\n\" + label\n",
        "    plt.title(title)\n",
        "    return\n",
        "\n",
        "image_index = 0\n",
        "row = 2\n",
        "col = 2\n",
        "for i in range(1,(row*col-1)):\n",
        "    plot_image_1(predfigure, image_single[image_index], image_single_name[image_index], single_predictions[image_index], single_predictions_labels_plot[image_index], row, col, i)\n",
        "    image_index = image_index + 1\n",
        "plt.show()"
      ],
      "execution_count": 0,
      "outputs": []
    }
  ]
}